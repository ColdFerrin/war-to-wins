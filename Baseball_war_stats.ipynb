{
 "cells": [
  {
   "cell_type": "markdown",
   "id": "9ecab75f",
   "metadata": {},
   "source": []
  },
  {
   "cell_type": "code",
   "execution_count": 1,
   "id": "4d376660",
   "metadata": {},
   "outputs": [],
   "source": [
    "import pandas as pd\n",
    "from pybaseball import *"
   ]
  },
  {
   "cell_type": "code",
   "execution_count": 2,
   "id": "35457203",
   "metadata": {},
   "outputs": [],
   "source": [
    "bwar_bat_data = bwar_bat()\n",
    "bwar_pitch_data = bwar_pitch()\n"
   ]
  },
  {
   "cell_type": "code",
   "execution_count": null,
   "id": "add15020",
   "metadata": {},
   "outputs": [
    {
     "name": "stderr",
     "output_type": "stream",
     "text": [
      "/home/fkatz/baseballWAR/baseballWAR_env/lib/python3.8/site-packages/pybaseball/team_results.py:70: FutureWarning: In a future version of pandas all arguments of DataFrame.drop except for the argument 'labels' will be keyword-only\n",
      "  data = data.drop('',1) #not a useful column\n",
      "/home/fkatz/baseballWAR/baseballWAR_env/lib/python3.8/site-packages/pybaseball/team_results.py:83: FutureWarning: In a future version of pandas all arguments of DataFrame.drop except for the argument 'labels' will be keyword-only\n",
      "  data = data.drop('Streak2',1)\n"
     ]
    }
   ],
   "source": [
    "war_data = pd.DataFrame(columns = ['Team', 'Year', 'WinPercent', 'HadDH', 'TotalAvgWAR', 'BattingAvgWAR', 'PitchingAvgWAR', 'TotalWAR', 'TotalBattingWAR', 'TotalPitchingWAR'])\n",
    "\n",
    "for year in range(1920, 2021):\n",
    "    teams = team_ids(year)\n",
    "    bat_war = bwar_bat_data.loc[(bwar_bat_data['year_ID'] == year) & ((bwar_bat_data['lg_ID'] == 'NL') | (bwar_bat_data['lg_ID'] == 'AL'))]\n",
    "    pitch_war = bwar_pitch_data.loc[(bwar_pitch_data['year_ID'] == year) & ((bwar_pitch_data['lg_ID'] == 'NL') | (bwar_pitch_data['lg_ID'] == 'AL'))]\n",
    "    total_war = bat_war.append(pitch_war, ignore_index=True, sort=False)\n",
    "    for team in teams.itertuples(index=False):\n",
    "        teamIDBR = team[teams.columns.get_loc(\"teamIDBR\")]\n",
    "        record_objs = schedule_and_record(year, teamIDBR).iloc[-1]['W-L'].split('-')\n",
    "        record_objs = list(map(int, record_objs))\n",
    "        win_percent = record_objs[0] / (record_objs[0] + record_objs[1])\n",
    "        team_bat_war = bat_war.loc[bat_war['team_ID'] == teamIDBR]\n",
    "        team_pitch_war = pitch_war.loc[pitch_war['team_ID'] == teamIDBR]\n",
    "        team_total_war = total_war.loc[total_war['team_ID'] == teamIDBR]\n",
    "        had_dh = True if team[teams.columns.get_loc(\"lgID\")] == 'AL' and year >= 1973 else False\n",
    "        row = [teamIDBR, year, win_percent, had_dh, team_bat_war.WAR.mean(), team_bat_war.WAR.mean(), team_pitch_war.WAR.mean(),  team_total_war.WAR.sum(), team_bat_war.WAR.sum(), team_pitch_war.WAR.sum()]\n",
    "        #print(row)\n",
    "        war_data.loc[len(war_data.index)] = row\n",
    "    \n",
    "war_data.sample(5)"
   ]
  },
  {
   "cell_type": "code",
   "execution_count": null,
   "id": "e07f7d33",
   "metadata": {
    "scrolled": false
   },
   "outputs": [],
   "source": [
    "import numpy as np\n",
    "from numpy.polynomial.polynomial import Polynomial\n",
    "import matplotlib.pyplot as plt\n",
    "import scipy.stats\n",
    "\n",
    "xcolset = ['WinPercent', 'WinPercent', 'WinPercent', 'WinPercent', 'WinPercent', 'WinPercent']\n",
    "ycolset = ['TotalAvgWAR', 'BattingAvgWAR', 'PitchingAvgWAR', 'TotalWAR', 'TotalBattingWAR', 'TotalPitchingWAR']\n",
    "xlabelset = ['Win Percentage', 'Win Percentage', 'Win Percentage', 'Win Percentage', 'Win Percentage', 'Win Percentage']\n",
    "ylabelset = ['Team Average bWAR', 'Batting Average bWAR', 'Pitching Average bWAR', 'Total Team bWAR', 'Total Batting bWAR', 'Total Pitching bWAR']\n",
    "\n",
    "for i, (xcol,ycol,xlabel,ylabel) in enumerate(zip(xcolset,ycolset,xlabelset,ylabelset), 1):\n",
    "\n",
    "    xcolval = war_data[xcol]\n",
    "    ycolval = war_data[ycol]\n",
    "    \n",
    "    offset, slope = Polynomial.fit(xcolval, ycolval, 1).convert().coef\n",
    "    correlation =  scipy.stats.pearsonr(xcolval, ycolval)\n",
    "    \n",
    "    plt.figure(i, figsize=(11,8.5))\n",
    "    plt.scatter(xcolval, ycolval, s=20,c='#4292c6')\n",
    "    plt.plot(xcolval, offset + slope * xcolval, '-', c='#08306b')\n",
    "    #plt.plot([], [], ' ', label=f'R = {correlation[0]}')\n",
    "    #plt.plot([], [], ' ', label=f'$\\rho=100$ = {correlation[1]}')\n",
    "    plt.xlabel(xlabel)\n",
    "    plt.ylabel(ylabel)\n",
    "    plt.title(f'{xlabel} vs {ylabel}')\n",
    "    \n",
    "    axes = plt.gca()\n",
    "    xmin, xmax = axes.get_xlim()\n",
    "    ymin, ymax = axes.get_ylim()\n",
    "    textxpos = .05\n",
    "    textypos = .9\n",
    "    \n",
    "    plt.text(((xmax-xmin)*textxpos) + xmin, ((ymax-ymin)*textypos) + ymin, f'correlation = {correlation[0]} \\nrho 'r'$\\rho=$'f'{correlation[1]}', fontsize = 14)\n",
    "    \n",
    "    plt.show()\n"
   ]
  },
  {
   "cell_type": "code",
   "execution_count": null,
   "id": "e7a9d039",
   "metadata": {},
   "outputs": [],
   "source": []
  },
  {
   "cell_type": "code",
   "execution_count": null,
   "id": "6b416eaf",
   "metadata": {},
   "outputs": [],
   "source": []
  },
  {
   "cell_type": "code",
   "execution_count": null,
   "id": "93e62ba9",
   "metadata": {},
   "outputs": [],
   "source": []
  },
  {
   "cell_type": "code",
   "execution_count": null,
   "id": "c4795ec8",
   "metadata": {},
   "outputs": [],
   "source": []
  },
  {
   "cell_type": "code",
   "execution_count": null,
   "id": "5b065e94",
   "metadata": {},
   "outputs": [],
   "source": []
  },
  {
   "cell_type": "code",
   "execution_count": null,
   "id": "8342c647",
   "metadata": {},
   "outputs": [],
   "source": []
  },
  {
   "cell_type": "code",
   "execution_count": null,
   "id": "0b089c04",
   "metadata": {},
   "outputs": [],
   "source": []
  },
  {
   "cell_type": "code",
   "execution_count": null,
   "id": "1262eaad",
   "metadata": {},
   "outputs": [],
   "source": [
    "\n"
   ]
  }
 ],
 "metadata": {
  "kernelspec": {
   "display_name": "Python 3 (ipykernel)",
   "language": "python",
   "name": "python3"
  },
  "language_info": {
   "codemirror_mode": {
    "name": "ipython",
    "version": 3
   },
   "file_extension": ".py",
   "mimetype": "text/x-python",
   "name": "python",
   "nbconvert_exporter": "python",
   "pygments_lexer": "ipython3",
   "version": "3.8.10"
  }
 },
 "nbformat": 4,
 "nbformat_minor": 5
}
