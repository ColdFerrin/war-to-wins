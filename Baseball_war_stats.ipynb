{
 "cells": [
  {
   "cell_type": "code",
   "execution_count": null,
   "id": "a3326a67",
   "metadata": {},
   "outputs": [],
   "source": [
    "import sys\n",
    "!{sys.executable} -m pip install pybaseball"
   ]
  },
  {
   "cell_type": "markdown",
   "id": "aee42a6d",
   "metadata": {},
   "source": [
    "# Exploring Relative Correlations of Average and Total WAR vs Wins\n",
    "\n",
    "My initial hypothesis is that average wins above replacement, WAR, is a better predictor of win percentage than total WAR. For this analysis I am going to be using Baseball Refrence Wins Above Replacement, bWAR, as the data is more accessable and easier to manipulate for my purposes. I am also going to compare these with the toal and average. For my data to be significatn i am going to use the standard p-value of .01."
   ]
  },
  {
   "cell_type": "code",
   "execution_count": 1,
   "id": "4d376660",
   "metadata": {},
   "outputs": [],
   "source": [
    "#Import base libraries\n",
    "import pandas as pd\n",
    "from pybaseball import *"
   ]
  },
  {
   "cell_type": "code",
   "execution_count": 2,
   "id": "c4657752",
   "metadata": {},
   "outputs": [],
   "source": [
    "#Get batter and pitcher bWAR\n",
    "bwar_bat_data = bwar_bat()\n",
    "bwar_pitch_data = bwar_pitch()\n"
   ]
  },
  {
   "cell_type": "markdown",
   "id": "5a96e54b",
   "metadata": {},
   "source": [
    "## Preparing the data to graph\n",
    "\n",
    "### Output Data Frame\n",
    "The first thing to do is to create a pandas DataFrame to store the data that is needed.\n",
    "\n",
    "### Data to include\n",
    "#### Data Sets\n",
    "I decided to use the live ball era. This is from 1920 onward, because before 1920 the rules were sufficently different that i believe that the data was not applicable. Also i decided to only use the AL and NL because there are some issues with the data for the Negro Leauges that made it hard to add to the set. \n",
    "#### Issues with baseball\n",
    "The next issues was how to deal with some of the issues that baseball has. The first is what to do about The Designated Hitter. The issue is that becuase it is not in all of the data points it can cause some extra noise. The second is what to do with the pitching WAR of position players that pitch. I decided that overall it was worth it to keep both, as the data sets have that as a feature. \n",
    "\n",
    "The data is all calculated at this point."
   ]
  },
  {
   "cell_type": "code",
   "execution_count": null,
   "id": "2e13a415",
   "metadata": {},
   "outputs": [
    {
     "name": "stderr",
     "output_type": "stream",
     "text": [
      "/home/fkatz/baseballWAR/venv_baseballWAR/lib/python3.8/site-packages/pybaseball/team_results.py:70: FutureWarning: In a future version of pandas all arguments of DataFrame.drop except for the argument 'labels' will be keyword-only\n",
      "  data = data.drop('',1) #not a useful column\n",
      "/home/fkatz/baseballWAR/venv_baseballWAR/lib/python3.8/site-packages/pybaseball/team_results.py:83: FutureWarning: In a future version of pandas all arguments of DataFrame.drop except for the argument 'labels' will be keyword-only\n",
      "  data = data.drop('Streak2',1)\n"
     ]
    }
   ],
   "source": [
    "war_data = pd.DataFrame(columns = ['Team', 'Year', 'WinPercent', 'HadDH', 'TotalAvgWAR', 'BattingAvgWAR', 'PitchingAvgWAR', 'TotalWAR', 'TotalBattingWAR', 'TotalPitchingWAR'])\n",
    "\n",
    "# Loop Through the years\n",
    "for year in range(1920, 2021):\n",
    "    # Get all data for teams from a year\n",
    "    teams = team_ids(year)\n",
    "    bat_war = bwar_bat_data.loc[(bwar_bat_data['year_ID'] == year) & ((bwar_bat_data['lg_ID'] == 'NL') | (bwar_bat_data['lg_ID'] == 'AL'))]\n",
    "    pitch_war = bwar_pitch_data.loc[(bwar_pitch_data['year_ID'] == year) & ((bwar_pitch_data['lg_ID'] == 'NL') | (bwar_pitch_data['lg_ID'] == 'AL'))]\n",
    "    total_war = bat_war.append(pitch_war, ignore_index=True, sort=False)\n",
    "    # Loop Through each team\n",
    "    for team in teams.itertuples(index=False):\n",
    "        teamIDBR = team[teams.columns.get_loc(\"teamIDBR\")]\n",
    "        record_objs = schedule_and_record(year, teamIDBR).iloc[-1]['W-L'].split('-')\n",
    "        record_objs = list(map(int, record_objs))\n",
    "        win_percent = record_objs[0] / (record_objs[0] + record_objs[1])\n",
    "        team_bat_war = bat_war.loc[bat_war['team_ID'] == teamIDBR]\n",
    "        team_pitch_war = pitch_war.loc[pitch_war['team_ID'] == teamIDBR]\n",
    "        team_total_war = total_war.loc[total_war['team_ID'] == teamIDBR]\n",
    "        had_dh = True if team[teams.columns.get_loc(\"lgID\")] == 'AL' and year >= 1973 else False\n",
    "        # Add each teams WAR data to chart\n",
    "        row = [teamIDBR, year, win_percent, had_dh, team_bat_war.WAR.mean(), team_bat_war.WAR.mean(), team_pitch_war.WAR.mean(),  team_total_war.WAR.sum(), team_bat_war.WAR.sum(), team_pitch_war.WAR.sum()]\n",
    "        war_data.loc[len(war_data.index)] = row\n",
    "\n",
    "# Get a sample of the data\n",
    "war_data.sample(5)"
   ]
  },
  {
   "cell_type": "code",
   "execution_count": null,
   "id": "1976314c",
   "metadata": {
    "scrolled": false
   },
   "outputs": [],
   "source": [
    "#Import graphing and statistical functions\n",
    "import numpy as np\n",
    "from numpy.polynomial.polynomial import Polynomial\n",
    "import matplotlib.pyplot as plt\n",
    "import scipy.stats\n",
    "\n",
    "#Get column sets for different chars\n",
    "xcolset = ['WinPercent', 'WinPercent', 'WinPercent', 'WinPercent', 'WinPercent', 'WinPercent']\n",
    "ycolset = ['TotalAvgWAR', 'BattingAvgWAR', 'PitchingAvgWAR', 'TotalWAR', 'TotalBattingWAR', 'TotalPitchingWAR']\n",
    "xlabelset = ['Win Percentage', 'Win Percentage', 'Win Percentage', 'Win Percentage', 'Win Percentage', 'Win Percentage']\n",
    "ylabelset = ['Team Average bWAR', 'Batting Average bWAR', 'Pitching Average bWAR', 'Total Team bWAR', 'Total Batting bWAR', 'Total Pitching bWAR']\n",
    "\n",
    "#Define plotting function\n",
    "def plot_chart(chartNum, xcol, ycol, xlabel, ylabel):\n",
    "\n",
    "    xcoldata = war_data[xcol]\n",
    "    ycoldata = war_data[ycol]\n",
    "    \n",
    "    offset, slope = Polynomial.fit(xcoldata, ycoldata, 1).convert().coef\n",
    "    correlation =  scipy.stats.pearsonr(xcoldata, ycoldata)\n",
    "    \n",
    "    plt.figure(chartNum, figsize=(19.20,10.80))\n",
    "    plt.rcParams['font.size'] = '16'\n",
    "    plt.scatter(xcoldata, ycoldata, c=xcoldata, s=20, cmap='gnuplot')\n",
    "    plt.plot(xcoldata, offset + slope * xcoldata, '-', c='black')\n",
    "    plt.xlabel(xlabel)\n",
    "    plt.ylabel(ylabel)\n",
    "    title_string = f'{xlabel} vs {ylabel}'\n",
    "    plt.title(title_string, fontsize=20)\n",
    "    \n",
    "    axes = plt.gca()\n",
    "    xmin, xmax = axes.get_xlim()\n",
    "    ymin, ymax = axes.get_ylim()\n",
    "    textxpos = .05\n",
    "    textypos = .9\n",
    "    \n",
    "    plt.text(((xmax-xmin)*textxpos) + xmin, ((ymax-ymin)*textypos) + ymin, f'correlation = {correlation[0]} \\np-value = {correlation[1]}')\n",
    "    \n",
    "    plt.savefig(f'{title_string}.png', dpi = 300)\n",
    "    plt.show()\n",
    "    \n"
   ]
  },
  {
   "cell_type": "markdown",
   "id": "3bf8a73d",
   "metadata": {},
   "source": [
    "## Plotted Charts\n",
    "\n",
    "### Information about data points\n",
    "\n",
    "#### Correlation\n",
    "The corelation number in all of these graphs is a measure of the quality of the correlation between the two axis. A number closer to 1 means that there is a higher correlation, a number closer to 0 means that there is a lower correlation. A number closer to -1 means there is a higher inverse correlation. \n",
    "\n",
    "#### p-value\n",
    "The p value is the meauser of how likely it is that this data occured by random chance. A lower value means that the likeleyhood of this result being random is very low."
   ]
  },
  {
   "cell_type": "code",
   "execution_count": null,
   "id": "f9008ed9",
   "metadata": {},
   "outputs": [],
   "source": [
    "plot_chart(0, xcolset[0], ycolset[0], xlabelset[0], ylabelset[0])"
   ]
  },
  {
   "cell_type": "code",
   "execution_count": null,
   "id": "154c37c0",
   "metadata": {},
   "outputs": [],
   "source": [
    "plot_chart(1, xcolset[1], ycolset[1], xlabelset[1], ylabelset[1])"
   ]
  },
  {
   "cell_type": "code",
   "execution_count": null,
   "id": "93e62ba9",
   "metadata": {},
   "outputs": [],
   "source": [
    "plot_chart(2, xcolset[2], ycolset[2], xlabelset[2], ylabelset[2])"
   ]
  },
  {
   "cell_type": "code",
   "execution_count": null,
   "id": "c4795ec8",
   "metadata": {},
   "outputs": [],
   "source": [
    "plot_chart(3, xcolset[3], ycolset[3], xlabelset[3], ylabelset[3])"
   ]
  },
  {
   "cell_type": "code",
   "execution_count": null,
   "id": "1fed9ef5",
   "metadata": {},
   "outputs": [],
   "source": [
    "plot_chart(4, xcolset[4], ycolset[4], xlabelset[4], ylabelset[4])"
   ]
  },
  {
   "cell_type": "code",
   "execution_count": null,
   "id": "c527cad6",
   "metadata": {},
   "outputs": [],
   "source": [
    "plot_chart(5, xcolset[5], ycolset[5], xlabelset[5], ylabelset[5])"
   ]
  },
  {
   "cell_type": "markdown",
   "id": "d51ecc18",
   "metadata": {},
   "source": [
    "## Data Analysis\n",
    "\n",
    "### Pitching and batting war vs equivalent totals\n",
    "\n",
    "The correlation values above show that the pitching and batting bWARs individually are worse indications of correlation than the Team bWAR. I belive that this is because it give a picture of only part of the game. It is very possible for a team to be good at pitching and bad at batting, or the reverse, and their win percentage may not reflect that. \n",
    "\n",
    "### Total Team War vs Average Team War\n",
    "\n",
    "The correlation values in the graphs show that Total Team bWAR is a better indication of win percentage. I believe that this is beacuse the average bWAR can hide mediocre teams with a small number of very good players, but Total bWAR excentuates teams that are very good overall. \n",
    "\n",
    "## Conclusions\n",
    "My conclusion is that my initial Hypothesis is incorrect. Total war is a better metric to predict wins than average wins. We can tell that this result is not a result of randomness, as all my p-values are below .01 making the results statistically significant."
   ]
  },
  {
   "cell_type": "code",
   "execution_count": null,
   "id": "0f8e02eb",
   "metadata": {},
   "outputs": [],
   "source": []
  }
 ],
 "metadata": {
  "kernelspec": {
   "display_name": "Python 3 (ipykernel)",
   "language": "python",
   "name": "python3"
  },
  "language_info": {
   "codemirror_mode": {
    "name": "ipython",
    "version": 3
   },
   "file_extension": ".py",
   "mimetype": "text/x-python",
   "name": "python",
   "nbconvert_exporter": "python",
   "pygments_lexer": "ipython3",
   "version": "3.8.10"
  }
 },
 "nbformat": 4,
 "nbformat_minor": 5
}
